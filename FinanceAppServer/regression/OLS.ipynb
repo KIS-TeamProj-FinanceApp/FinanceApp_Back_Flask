{
 "cells": [
  {
   "cell_type": "code",
   "execution_count": 79,
   "metadata": {},
   "outputs": [],
   "source": [
    "import pandas as pd\n",
    "import numpy as np\n",
    "import matplotlib.pyplot as plt\n",
    "import statsmodels.api as sm\n",
    "from sklearn.linear_model import LinearRegression\n",
    "from sklearn.metrics import mean_squared_error, r2_score\n",
    "import statsmodels.api as sm\n",
    "from sklearn.preprocessing import StandardScaler\n",
    "import warnings\n",
    "warnings.filterwarnings('ignore')\n",
    "\n",
    "df_macro = pd.read_csv('macro_data_interpolated.csv')\n",
    "df_macro.rename(columns = {'Unnamed: 0':'date'}, inplace=True)\n",
    "df_macro.set_index(pd.to_datetime(df_macro['date']), inplace = True)\n",
    "del df_macro['date']\n",
    "df_shares = pd.read_csv('NumShares_Buffet.csv')\n",
    "df_shares.rename(columns = {'Unnamed: 0':'date'}, inplace=True)\n",
    "df_shares.set_index(pd.to_datetime(df_shares['date']), inplace = True)\n",
    "del df_shares['date']\n",
    "\n",
    "stocks_use = ['WFC', 'KO', 'AXP', 'IBM', 'WMT', 'PG', 'XOM', 'USB', 'DVA', 'GS', 'MCO', 'GHC', 'GM', 'BK', 'COP', 'PSX', 'NOV', 'MTB', 'VRSN', 'VZ', 'COST', 'DE', 'V', 'GL', 'LBTYA', 'MA', 'LBTYK', 'GE', 'SNY', 'VRSK', 'JNJ', 'MDLZ', 'UPS', 'LEE', 'LBRDA', 'QSR', 'FWONK', 'DNOW', 'KHC', 'AAPL', 'AXTA', 'KMI', 'LILA', 'LILAK', 'CHTR', 'LUV', 'DAL', 'AAL', 'UAL', 'SIRI', 'BAC', 'SYF', 'TEVA', 'STOR', 'JPM', 'PNC', 'AMZN', 'TRV', 'KR', 'OXY', 'BIIB', 'RH', 'CVX', 'ABBV', 'BMY', 'MRK', 'AON', 'TMUS', 'MMC', 'ATVI', 'HPQ', 'C', 'PARA', 'CE', 'MCK', 'MKL', 'ALLY', 'FND', 'FWONA', 'T', 'ORCL', 'PFE', 'TSM', 'LPX', 'JEF']\n",
    "def get_buffet(ticker, data):\n",
    "    pf = df_shares[df_shares['Sym'] == ticker]\n",
    "    pf['Amount (000)'].loc['2016-12-01'] = (pf['Amount (000)'].loc['2016-09-01'].copy() + pf['Amount (000)'].loc['2017-03-01'])/2 # 오타 수정\n",
    "    pf['Diff'] = pf['Amount (000)'] - pf['Amount (000)'].shift(1) # 이전꺼와의 차이\n",
    "    return pf['Diff']\n"
   ]
  },
  {
   "cell_type": "code",
   "execution_count": 98,
   "metadata": {},
   "outputs": [],
   "source": [
    "sp_url = 'https://en.wikipedia.org/wiki/List_of_S%26P_500_companies'\n",
    "sp500 = pd.read_html(sp_url, header=0)[0]\n",
    "notsp = []\n",
    "stocks_saved = []\n",
    "for i in stocks_use:\n",
    "    if i in sp500['Symbol'].values:\n",
    "        stocks_saved.append(i)\n",
    "    else:\n",
    "        notsp.append(i)\n",
    "sp500 = sp500.set_index('Symbol')"
   ]
  },
  {
   "cell_type": "code",
   "execution_count": 100,
   "metadata": {},
   "outputs": [],
   "source": [
    "sec_dict = {'NOV':'Materials','MKL':'Materials','GHC':'Communication Services','SIRI':'Communication Services',\n",
    "            'LBTYA':'Real Estate','LBTYK':'Real Estate','RH':'Consumer Discretionary','FWONA':'Utilities',\n",
    "            'TSM':'Information Technology','LPX':'Industrials'}"
   ]
  },
  {
   "cell_type": "code",
   "execution_count": 101,
   "metadata": {},
   "outputs": [
    {
     "name": "stdout",
     "output_type": "stream",
     "text": [
      "Completed Prediction for WFC: -30245.660028225742\n",
      "Completed Prediction for KO: -2.1852092531044036\n",
      "Completed Prediction for AXP: 135.8381019572189\n",
      "Completed Prediction for IBM: -1440.9701313734986\n",
      "Completed Prediction for WMT: -4111.0682489369065\n",
      "Completed Prediction for PG: -406.00813763123006\n",
      "Completed Prediction for XOM: -13153.565518570482\n",
      "Completed Prediction for USB: -49992.66009289562\n",
      "Completed Prediction for DVA: 394.70142387758824\n",
      "Completed Prediction for GS: 82.29837634929572\n",
      "Completed Prediction for MCO: -212.12533430159783\n",
      "Completed Prediction for GHC: -212.19126277020405\n",
      "Completed Prediction for GM: 1419.2175972698606\n",
      "Completed Prediction for BK: -5665.4482005722675\n",
      "Completed Prediction for COP: 573.2608107994456\n",
      "Completed Prediction for PSX: -6970.463956391672\n",
      "Completed Prediction for NOV: -200.7939292620431\n",
      "Completed Prediction for MTB: 466.3174078471784\n",
      "Completed Prediction for VRSN: 159.17784290180657\n",
      "Completed Prediction for VZ: 12865.955133029725\n",
      "Completed Prediction for COST: 623.540200260526\n",
      "Completed Prediction for DE: -94.23309565524687\n",
      "Failed to Predict V\n",
      "Completed Prediction for GL: 84.60148436703275\n",
      "Completed Prediction for LBTYA: 445.4658461920844\n",
      "Failed to Predict MA\n",
      "Completed Prediction for LBTYK: -1724.019785249162\n",
      "Completed Prediction for GE: 390.7438329207489\n",
      "Failed to Predict SNY\n",
      "Completed Prediction for VRSK: -9.323592767570517\n",
      "Completed Prediction for JNJ: 2.9742298795001716\n",
      "Completed Prediction for MDLZ: -5.066774101229157\n",
      "Completed Prediction for UPS: 1.2366483053212676\n",
      "Failed to Predict LEE\n",
      "Failed to Predict LBRDA\n",
      "Failed to Predict QSR\n",
      "Failed to Predict FWONK\n",
      "Failed to Predict DNOW\n",
      "Failed to Predict KHC\n",
      "Completed Prediction for AAPL: 45850.27251544222\n",
      "Failed to Predict AXTA\n",
      "Completed Prediction for KMI: 1833.6547070421511\n",
      "Failed to Predict LILA\n",
      "Failed to Predict LILAK\n",
      "Completed Prediction for CHTR: -784.7370414061006\n",
      "Completed Prediction for LUV: -7100.682142170146\n",
      "Completed Prediction for DAL: -11256.984378847119\n",
      "Completed Prediction for AAL: 5309.153780184162\n",
      "Completed Prediction for UAL: 300.19291008167784\n",
      "Completed Prediction for SIRI: 4072.8742482136004\n",
      "Completed Prediction for BAC: -247038.5837112493\n",
      "Failed to Predict SYF\n",
      "Failed to Predict TEVA\n",
      "Failed to Predict STOR\n",
      "Completed Prediction for JPM: -4735.109660839313\n",
      "Completed Prediction for PNC: -1037.5513946584251\n",
      "Completed Prediction for AMZN: -769.0921049074204\n",
      "Completed Prediction for TRV: -1549.0058940765448\n",
      "Completed Prediction for KR: 475.2405567414826\n",
      "Completed Prediction for OXY: 36550.32351333712\n",
      "Completed Prediction for BIIB: -223.46975034880484\n",
      "Completed Prediction for RH: 547.860441575087\n",
      "Completed Prediction for CVX: -23028.646230475162\n",
      "Completed Prediction for ABBV: 1140.949483304721\n",
      "Completed Prediction for BMY: 2324.393017629627\n",
      "Completed Prediction for MRK: 6803.387620459311\n",
      "Completed Prediction for AON: -479.37550164831646\n",
      "Completed Prediction for TMUS: -989.9553400616278\n",
      "Completed Prediction for MMC: 100.23555130354362\n",
      "Completed Prediction for ATVI: -14236.409975496266\n",
      "Completed Prediction for HPQ: -101.34910946083255\n",
      "Completed Prediction for C: -11896.841367940651\n",
      "Completed Prediction for PARA: 11039.558812229196\n",
      "Completed Prediction for CE: -215.99245383141533\n",
      "Completed Prediction for MCK: 51.58287419557519\n",
      "Completed Prediction for MKL: -9.06336655257087\n",
      "Failed to Predict ALLY\n",
      "Failed to Predict FND\n",
      "Completed Prediction for FWONA: -12.359963779359532\n",
      "Completed Prediction for T: -1811.3483349796734\n",
      "Completed Prediction for ORCL: -5688.7449056354235\n",
      "Completed Prediction for PFE: 941.35575733718\n",
      "Completed Prediction for TSM: 78301.62509750063\n",
      "Completed Prediction for LPX: 7700.15307742329\n",
      "Failed to Predict JEF\n"
     ]
    }
   ],
   "source": [
    "import requests\n",
    "\n",
    "url = 'https://www.sec.gov/files/company_tickers_exchange.json'\n",
    "headers = {'User-Agent': 'Mozilla'}\n",
    "res = requests.get(url, headers=headers)\n",
    "cik_list = res.json()\n",
    "company_info = cik_list['data']\n",
    "tickers = dict()\n",
    "for p in company_info:\n",
    "    if p[2] in stocks_use:\n",
    "        tickers[p[2]] = [p[1],p[3]] # 이름, 거래소\n",
    "\n",
    "regression_results = []\n",
    "for s in stocks_use:\n",
    "    df_fs = pd.read_csv(f'./ratio_db/{s}_ratios.csv')\n",
    "    df_fs.set_index(pd.to_datetime(df_fs['date']), inplace = True)\n",
    "    del df_fs['date']\n",
    "    \n",
    "    y_temp = get_buffet(s, df_shares)\n",
    "    X = df_macro.join(df_fs).interpolate()\n",
    "    X = X.replace([np.inf, -np.inf], np.nan)\n",
    "    X = X.interpolate()\n",
    "    #scaler = StandardScaler()\n",
    "    #scaler.fit_transform(X)\n",
    "    data = X.join(y_temp).fillna(method = 'ffill')\n",
    "    Y = data.iloc[:,-1]\n",
    "    Y = Y.replace([np.inf, -np.inf], np.nan)\n",
    "    Y = Y.interpolate()\n",
    "    F_Y = Y.shift(-1).dropna() # 미래를 대상으로 fitting\n",
    "    #F_Y_use = F_Y.iloc[:-1]\n",
    "    X_use = X.loc['2014-02-01':'2022-11-01']\n",
    "    X_test = X.loc['2022-12-01':]\n",
    "    \n",
    "    try:\n",
    "        reg = LinearRegression().fit(X_use, F_Y)\n",
    "        y_pred = reg.predict(X_test)\n",
    "        if s in stocks_saved:\n",
    "            regression_results.append([s, int(y_pred[0]), sp500.loc[s]['Security'], tickers[s][1], sp500.loc[s]['GICS Sector']]) # ticker, 예상치, 이름, 거래소, 산업분류\n",
    "            print(f'Completed Prediction for {s}: {y_pred[0]}')\n",
    "        else:\n",
    "            regression_results.append([s, int(y_pred[0]), tickers[s][0], tickers[s][1], sec_dict[s]])\n",
    "            print(f'Completed Prediction for {s}: {y_pred[0]}')\n",
    "    except:\n",
    "        print(f'Failed to Predict {s}')\n",
    "\n",
    "    "
   ]
  },
  {
   "cell_type": "code",
   "execution_count": 102,
   "metadata": {},
   "outputs": [],
   "source": [
    "regression_results.sort(key = lambda x:x[1], reverse=True)"
   ]
  },
  {
   "cell_type": "code",
   "execution_count": 103,
   "metadata": {},
   "outputs": [
    {
     "data": {
      "text/plain": [
       "67"
      ]
     },
     "execution_count": 103,
     "metadata": {},
     "output_type": "execute_result"
    }
   ],
   "source": [
    "len(regression_results)"
   ]
  },
  {
   "cell_type": "code",
   "execution_count": 105,
   "metadata": {},
   "outputs": [
    {
     "name": "stdout",
     "output_type": "stream",
     "text": [
      "[['TSM', 78301, 'TAIWAN SEMICONDUCTOR MANUFACTURING CO LTD', 'NYSE', 'Information Technology'], ['AAPL', 45850, 'Apple Inc.', 'Nasdaq', 'Information Technology'], ['OXY', 36550, 'Occidental Petroleum', 'NYSE', 'Energy'], ['VZ', 12865, 'Verizon', 'NYSE', 'Communication Services'], ['PARA', 11039, 'Paramount Global', 'Nasdaq', 'Communication Services'], ['LPX', 7700, 'LOUISIANA-PACIFIC CORP', 'NYSE', 'Industrials'], ['MRK', 6803, 'Merck & Co.', 'NYSE', 'Health Care'], ['AAL', 5309, 'American Airlines Group', 'Nasdaq', 'Industrials'], ['SIRI', 4072, 'SIRIUS XM HOLDINGS INC.', 'Nasdaq', 'Communication Services'], ['BMY', 2324, 'Bristol Myers Squibb', 'NYSE', 'Health Care'], ['KMI', 1833, 'Kinder Morgan', 'NYSE', 'Energy'], ['GM', 1419, 'General Motors', 'NYSE', 'Consumer Discretionary'], ['ABBV', 1140, 'AbbVie', 'NYSE', 'Health Care'], ['PFE', 941, 'Pfizer', 'NYSE', 'Health Care'], ['COST', 623, 'Costco', 'Nasdaq', 'Consumer Staples'], ['COP', 573, 'ConocoPhillips', 'NYSE', 'Energy'], ['RH', 547, 'RH', 'NYSE', 'Consumer Discretionary'], ['KR', 475, 'Kroger', 'NYSE', 'Consumer Staples'], ['MTB', 466, 'M&T Bank', 'NYSE', 'Financials'], ['LBTYA', 445, 'Liberty Global plc', 'Nasdaq', 'Real Estate'], ['DVA', 394, 'DaVita Inc.', 'NYSE', 'Health Care'], ['GE', 390, 'General Electric', 'NYSE', 'Industrials'], ['UAL', 300, 'United Airlines Holdings', 'Nasdaq', 'Industrials'], ['VRSN', 159, 'Verisign', 'Nasdaq', 'Information Technology'], ['AXP', 135, 'American Express', 'NYSE', 'Financials'], ['MMC', 100, 'Marsh McLennan', 'NYSE', 'Financials'], ['GL', 84, 'Globe Life', 'NYSE', 'Financials'], ['GS', 82, 'Goldman Sachs', 'NYSE', 'Financials'], ['MCK', 51, 'McKesson', 'NYSE', 'Health Care'], ['JNJ', 2, 'Johnson & Johnson', 'NYSE', 'Health Care'], ['UPS', 1, 'United Parcel Service', 'NYSE', 'Industrials'], ['KO', -2, 'The Coca-Cola Company', 'NYSE', 'Consumer Staples'], ['MDLZ', -5, 'Mondelez International', 'Nasdaq', 'Consumer Staples'], ['VRSK', -9, 'Verisk', 'Nasdaq', 'Industrials'], ['MKL', -9, 'MARKEL CORP', 'NYSE', 'Materials'], ['FWONA', -12, 'Liberty Media Corp', 'Nasdaq', 'Utilities'], ['DE', -94, 'John Deere', 'NYSE', 'Industrials'], ['HPQ', -101, 'HP Inc.', 'NYSE', 'Information Technology'], ['NOV', -200, 'NOV Inc.', 'NYSE', 'Materials'], ['MCO', -212, \"Moody's Corporation\", 'NYSE', 'Financials'], ['GHC', -212, 'Graham Holdings Co', 'NYSE', 'Communication Services'], ['CE', -215, 'Celanese', 'NYSE', 'Materials'], ['BIIB', -223, 'Biogen', 'Nasdaq', 'Health Care'], ['PG', -406, 'Procter & Gamble', 'NYSE', 'Consumer Staples'], ['AON', -479, 'Aon', 'NYSE', 'Financials'], ['AMZN', -769, 'Amazon', 'Nasdaq', 'Consumer Discretionary'], ['CHTR', -784, 'Charter Communications', 'Nasdaq', 'Communication Services'], ['TMUS', -989, 'T-Mobile US', 'Nasdaq', 'Communication Services'], ['PNC', -1037, 'PNC Financial Services', 'NYSE', 'Financials'], ['IBM', -1440, 'IBM', 'NYSE', 'Information Technology'], ['TRV', -1549, 'The Travelers Companies', 'NYSE', 'Financials'], ['LBTYK', -1724, 'Liberty Global plc', 'Nasdaq', 'Real Estate'], ['T', -1811, 'AT&T', 'NYSE', 'Communication Services'], ['WMT', -4111, 'Walmart', 'NYSE', 'Consumer Staples'], ['JPM', -4735, 'JPMorgan Chase', 'NYSE', 'Financials'], ['BK', -5665, 'BNY Mellon', 'NYSE', 'Financials'], ['ORCL', -5688, 'Oracle Corporation', 'NYSE', 'Information Technology'], ['PSX', -6970, 'Phillips 66', 'NYSE', 'Energy'], ['LUV', -7100, 'Southwest Airlines', 'NYSE', 'Industrials'], ['DAL', -11256, 'Delta Air Lines', 'NYSE', 'Industrials'], ['C', -11896, 'Citigroup', 'NYSE', 'Financials'], ['XOM', -13153, 'ExxonMobil', 'NYSE', 'Energy'], ['ATVI', -14236, 'Activision Blizzard', 'Nasdaq', 'Communication Services'], ['CVX', -23028, 'Chevron Corporation', 'NYSE', 'Energy'], ['WFC', -30245, 'Wells Fargo', 'NYSE', 'Financials'], ['USB', -49992, 'U.S. Bank', 'NYSE', 'Financials'], ['BAC', -247038, 'Bank of America', 'NYSE', 'Financials']]\n"
     ]
    }
   ],
   "source": [
    "print(regression_results)"
   ]
  },
  {
   "cell_type": "markdown",
   "metadata": {},
   "source": [
    "for i in X_use.isna().sum():\n",
    "    if i != 0:\n",
    "        print(i)"
   ]
  },
  {
   "cell_type": "markdown",
   "metadata": {},
   "source": [
    "max = 0\n",
    "for idx, val in enumerate(X_use.max()):\n",
    "    if val >= max:\n",
    "        print(val, idx)\n",
    "        max = val"
   ]
  },
  {
   "cell_type": "code",
   "execution_count": null,
   "metadata": {},
   "outputs": [],
   "source": []
  }
 ],
 "metadata": {
  "kernelspec": {
   "display_name": "Python 3 (ipykernel)",
   "language": "python",
   "name": "python3"
  },
  "language_info": {
   "codemirror_mode": {
    "name": "ipython",
    "version": 3
   },
   "file_extension": ".py",
   "mimetype": "text/x-python",
   "name": "python",
   "nbconvert_exporter": "python",
   "pygments_lexer": "ipython3",
   "version": "3.8.12"
  },
  "vscode": {
   "interpreter": {
    "hash": "db3f9596c5aba5087c9c8d1f1b99adecf5bd2d533081155cfbf15515ccfe8efa"
   }
  }
 },
 "nbformat": 4,
 "nbformat_minor": 2
}
